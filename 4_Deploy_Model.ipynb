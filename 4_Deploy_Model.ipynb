{
 "cells": [
  {
   "cell_type": "markdown",
   "metadata": {},
   "source": [
    "## Part 4 - Deploy Model"
   ]
  },
  {
   "cell_type": "markdown",
   "metadata": {},
   "source": [
    "**Connect to Azure ML workspace**"
   ]
  },
  {
   "cell_type": "code",
   "execution_count": 37,
   "metadata": {},
   "outputs": [],
   "source": [
    "from azureml.core import Workspace\n",
    "\n",
    "workspace = Workspace.from_config()"
   ]
  },
  {
   "cell_type": "markdown",
   "metadata": {},
   "source": [
    "**Get model**"
   ]
  },
  {
   "cell_type": "code",
   "execution_count": 38,
   "metadata": {},
   "outputs": [],
   "source": [
    "from azureml.core import Model\n",
    "\n",
    "model = Model(workspace, name='pokemon-classifier')"
   ]
  },
  {
   "cell_type": "markdown",
   "metadata": {},
   "source": [
    "**Define inference config**"
   ]
  },
  {
   "cell_type": "code",
   "execution_count": 39,
   "metadata": {},
   "outputs": [],
   "source": [
    "from azureml.core.model import InferenceConfig\n",
    "\n",
    "inference_config = InferenceConfig(source_directory='scoring',\n",
    "                                   runtime='python', \n",
    "                                   entry_script='score.py',\n",
    "                                   conda_file='env.yml')"
   ]
  },
  {
   "cell_type": "markdown",
   "metadata": {},
   "source": [
    "**Deploy web service**"
   ]
  },
  {
   "cell_type": "code",
   "execution_count": 65,
   "metadata": {},
   "outputs": [
    {
     "name": "stdout",
     "output_type": "stream",
     "text": [
      "Running...........................................\n",
      "Succeeded\n",
      "ACI service creation operation finished, operation \"Succeeded\"\n"
     ]
    }
   ],
   "source": [
    "from azureml.core.webservice import Webservice\n",
    "from azureml.exceptions import WebserviceException\n",
    "from azureml.core.webservice import AciWebservice, Webservice\n",
    "\n",
    "aci_config = AciWebservice.deploy_configuration(cpu_cores=2, memory_gb=4)\n",
    "aci_service_name = 'pokemon-classifier'\n",
    "\n",
    "try:\n",
    "    aci_service = Webservice(workspace, name=aci_service_name)\n",
    "    if aci_service:\n",
    "        aci_service.delete()\n",
    "except WebserviceException as e:\n",
    "    print()\n",
    "\n",
    "aci_service = Model.deploy(workspace, aci_service_name, [model], inference_config, aci_config)\n",
    "aci_service.wait_for_deployment(True)"
   ]
  },
  {
   "cell_type": "markdown",
   "metadata": {},
   "source": [
    "**Test web service**"
   ]
  },
  {
   "cell_type": "code",
   "execution_count": 66,
   "metadata": {},
   "outputs": [],
   "source": [
    "service_url = aci_service.scoring_uri"
   ]
  },
  {
   "cell_type": "code",
   "execution_count": 182,
   "metadata": {},
   "outputs": [],
   "source": [
    "# Load classes\n",
    "classes = []\n",
    "f = open('training/classes.txt','r')\n",
    "for line in f.readlines():\n",
    "    classes.append(line.replace('\\n',''))\n",
    "    f.close()"
   ]
  },
  {
   "cell_type": "code",
   "execution_count": 196,
   "metadata": {},
   "outputs": [],
   "source": [
    "from ipywidgets import Layout, Button, Box, Label, Text, VBox\n",
    "import requests\n",
    "import json\n",
    "import numpy as np\n",
    "import matplotlib.pyplot as plt\n",
    "from PIL import Image\n",
    "from io import BytesIO\n",
    "from matplotlib import rcParams\n",
    "%matplotlib inline\n",
    "\n",
    "def on_button_clicked(b):\n",
    "    with output:\n",
    "        image_url = label.children[1].value\n",
    "        \n",
    "        # Make HTTP call\n",
    "        input_data = '{\\\"image_url\\\": \\\"'+ image_url +'\\\"}'\n",
    "        headers = {'Content-Type':'application/json'}\n",
    "        response = requests.post(service_url, input_data, headers=headers)\n",
    "        \n",
    "        # Download image\n",
    "        image = Image.open(BytesIO(requests.get(test_image).content))\n",
    "\n",
    "        # Get prediction\n",
    "        result = np.array(json.loads(json.loads(response.text))['prediction'][0])\n",
    "        prediction = 'Prediction: {}\\n Probability: {}'.format(classes[result.argmax()], result.max())\n",
    "\n",
    "        # Display image\n",
    "        plt.title(prediction)\n",
    "        plt.imshow(image)\n",
    "        plt.show()\n",
    "\n",
    "label = Box([Label(value='Pokemon Image URL: '), Text()], layout=form_item_layout)\n",
    "button = Button(description='Get Prediction!')\n",
    "button.on_click(on_button_clicked)\n",
    "\n",
    "form = Box([label, button], layout=Layout(\n",
    "    display='flex',\n",
    "    flex_flow='row',\n",
    "    align_items='stretch',\n",
    "    width='100%'\n",
    "))"
   ]
  },
  {
   "cell_type": "code",
   "execution_count": 198,
   "metadata": {},
   "outputs": [
    {
     "data": {
      "application/vnd.jupyter.widget-view+json": {
       "model_id": "65b036983a454104b2b7503a4fd42e3a",
       "version_major": 2,
       "version_minor": 0
      },
      "text/plain": [
       "VBox(children=(Box(children=(Box(children=(Label(value='Pokemon Image URL: '), Text(value='')), layout=Layout(…"
      ]
     },
     "metadata": {},
     "output_type": "display_data"
    }
   ],
   "source": [
    "# Example: https://raw.githubusercontent.com/johnwu0604/techx-ml-pokedex-base/master/model/examples/pikachu_toy.png\n",
    "VBox([form, output])"
   ]
  },
  {
   "cell_type": "code",
   "execution_count": 199,
   "metadata": {},
   "outputs": [],
   "source": [
    "output.clear_output()"
   ]
  }
 ],
 "metadata": {
  "kernelspec": {
   "display_name": "Python 3.6 - AzureML",
   "language": "python",
   "name": "python3-azureml"
  },
  "language_info": {
   "codemirror_mode": {
    "name": "ipython",
    "version": 3
   },
   "file_extension": ".py",
   "mimetype": "text/x-python",
   "name": "python",
   "nbconvert_exporter": "python",
   "pygments_lexer": "ipython3",
   "version": "3.6.9"
  }
 },
 "nbformat": 4,
 "nbformat_minor": 2
}
