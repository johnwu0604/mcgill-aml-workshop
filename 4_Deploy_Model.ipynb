{
 "cells": [
  {
   "cell_type": "markdown",
   "metadata": {},
   "source": [
    "## Part 4 - Deploy Model"
   ]
  },
  {
   "cell_type": "markdown",
   "metadata": {},
   "source": [
    "**Connect to Azure ML workspace**"
   ]
  },
  {
   "cell_type": "code",
   "execution_count": null,
   "metadata": {},
   "outputs": [],
   "source": [
    "from azureml.core import Workspace\n",
    "\n",
    "workspace = Workspace.from_config()"
   ]
  },
  {
   "cell_type": "markdown",
   "metadata": {},
   "source": [
    "**Get model**"
   ]
  },
  {
   "cell_type": "code",
   "execution_count": null,
   "metadata": {},
   "outputs": [],
   "source": [
    "from azureml.core import Model\n",
    "\n",
    "model = Model(workspace, name='pokemon-classifier')"
   ]
  },
  {
   "cell_type": "markdown",
   "metadata": {},
   "source": [
    "**Define inference config**"
   ]
  },
  {
   "cell_type": "code",
   "execution_count": null,
   "metadata": {},
   "outputs": [],
   "source": [
    "%pycat scoring/score.py"
   ]
  },
  {
   "cell_type": "code",
   "execution_count": null,
   "metadata": {},
   "outputs": [],
   "source": [
    "%pycat scoring/env.yml"
   ]
  },
  {
   "cell_type": "code",
   "execution_count": null,
   "metadata": {},
   "outputs": [],
   "source": [
    "from azureml.core.model import InferenceConfig\n",
    "\n",
    "inference_config = InferenceConfig(source_directory='scoring',\n",
    "                                   runtime='python', \n",
    "                                   entry_script='score.py',\n",
    "                                   conda_file='env.yml')"
   ]
  },
  {
   "cell_type": "markdown",
   "metadata": {},
   "source": [
    "**Deploy web service**"
   ]
  },
  {
   "cell_type": "code",
   "execution_count": null,
   "metadata": {},
   "outputs": [],
   "source": [
    "from azureml.core.webservice import Webservice\n",
    "from azureml.exceptions import WebserviceException\n",
    "from azureml.core.webservice import AciWebservice, Webservice\n",
    "\n",
    "aci_config = AciWebservice.deploy_configuration(cpu_cores=2, memory_gb=4)\n",
    "aci_service_name = 'pokemon-classifier'\n",
    "\n",
    "try:\n",
    "    aci_service = Webservice(workspace, name=aci_service_name)\n",
    "    if aci_service:\n",
    "        aci_service.delete()\n",
    "except WebserviceException as e:\n",
    "    print()\n",
    "\n",
    "aci_service = Model.deploy(workspace, aci_service_name, [model], inference_config, aci_config)\n",
    "aci_service.wait_for_deployment(True)"
   ]
  },
  {
   "cell_type": "markdown",
   "metadata": {},
   "source": [
    "**Test web service**"
   ]
  },
  {
   "cell_type": "code",
   "execution_count": null,
   "metadata": {},
   "outputs": [],
   "source": [
    "from azureml.core.webservice import AciWebservice\n",
    "\n",
    "aci_service = AciWebservice(workspace, 'pokemon-classifier')"
   ]
  },
  {
   "cell_type": "code",
   "execution_count": null,
   "metadata": {},
   "outputs": [],
   "source": [
    "service_url = aci_service.scoring_uri"
   ]
  },
  {
   "cell_type": "code",
   "execution_count": null,
   "metadata": {},
   "outputs": [],
   "source": [
    "# Load classes\n",
    "classes = []\n",
    "f = open('training/classes.txt','r')\n",
    "for line in f.readlines():\n",
    "    classes.append(line.replace('\\n',''))\n",
    "    f.close()"
   ]
  },
  {
   "cell_type": "code",
   "execution_count": null,
   "metadata": {},
   "outputs": [],
   "source": [
    "import ipywidgets as widgets\n",
    "from ipywidgets import Layout, Button, Box, Label, Text, VBox\n",
    "import requests\n",
    "import json\n",
    "import numpy as np\n",
    "import matplotlib.pyplot as plt\n",
    "from PIL import Image\n",
    "from io import BytesIO\n",
    "from matplotlib import rcParams\n",
    "%matplotlib inline\n",
    "\n",
    "def on_button_clicked(b):\n",
    "    with output:\n",
    "        image_url = label.children[1].value\n",
    "        \n",
    "        # Make HTTP call\n",
    "        input_data = '{\\\"image_url\\\": \\\"'+ image_url +'\\\"}'\n",
    "        headers = {'Content-Type':'application/json'}\n",
    "        response = requests.post(service_url, input_data, headers=headers)\n",
    "        \n",
    "        # Download image\n",
    "        image = Image.open(BytesIO(requests.get(image_url).content))\n",
    "\n",
    "        # Get prediction\n",
    "        result = np.array(json.loads(json.loads(response.text))['prediction'][0])\n",
    "        prediction = 'Prediction: {}\\n Probability: {}'.format(classes[result.argmax()], result.max())\n",
    "\n",
    "        # Display image\n",
    "        plt.title(prediction)\n",
    "        plt.imshow(image)\n",
    "        plt.show()\n",
    "        \n",
    "output = widgets.Output()\n",
    "\n",
    "label = Box([Label(value='Pokemon Image URL: '), Text()])\n",
    "button = Button(description='Get Prediction!')\n",
    "button.on_click(on_button_clicked)\n",
    "\n",
    "form = Box([label, button], layout=Layout(\n",
    "    display='flex',\n",
    "    flex_flow='row',\n",
    "    align_items='stretch',\n",
    "    width='100%'\n",
    "))"
   ]
  },
  {
   "cell_type": "code",
   "execution_count": null,
   "metadata": {},
   "outputs": [],
   "source": [
    "'''\n",
    "Examples: \n",
    "https://github.com/johnwu0604/mcgill-aml-workshop/blob/master/test-images/pikachu_toy.png?raw=true\n",
    "https://github.com/johnwu0604/mcgill-aml-workshop/blob/master/test-images/charmander_counter.png?raw=true\n",
    "https://github.com/johnwu0604/mcgill-aml-workshop/blob/master/test-images/charmander_hidden.png?raw=true\n",
    "https://github.com/johnwu0604/mcgill-aml-workshop/blob/master/test-images/bulbasaur_plush.png?raw=true\n",
    "https://github.com/johnwu0604/mcgill-aml-workshop/blob/master/test-images/mewtwo_toy.png?raw=true\n",
    "https://github.com/johnwu0604/mcgill-aml-workshop/blob/master/test-images/squirtle_plush.png?raw=true\n",
    "'''\n",
    "VBox([form, output])"
   ]
  },
  {
   "cell_type": "code",
   "execution_count": null,
   "metadata": {},
   "outputs": [],
   "source": [
    "output.clear_output()"
   ]
  }
 ],
 "metadata": {
  "kernelspec": {
   "display_name": "Python 3.6 - AzureML",
   "language": "python",
   "name": "python3-azureml"
  },
  "language_info": {
   "codemirror_mode": {
    "name": "ipython",
    "version": 3
   },
   "file_extension": ".py",
   "mimetype": "text/x-python",
   "name": "python",
   "nbconvert_exporter": "python",
   "pygments_lexer": "ipython3",
   "version": "3.6.9"
  }
 },
 "nbformat": 4,
 "nbformat_minor": 2
}
